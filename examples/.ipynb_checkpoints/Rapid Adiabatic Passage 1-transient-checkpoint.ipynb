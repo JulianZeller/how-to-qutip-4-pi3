{
 "cells": [
  {
   "cell_type": "code",
   "execution_count": 1,
   "metadata": {
    "ExecuteTime": {
     "end_time": "2020-11-05T14:47:41.874000Z",
     "start_time": "2020-11-05T14:47:37.799000Z"
    }
   },
   "outputs": [],
   "source": [
    "import matplotlib.pyplot as plt\n",
    "import numpy as np\n",
    "from qutip import *\n",
    "from tqdm import tqdm\n",
    "import copy\n",
    "import time\n",
    "from scipy.optimize import curve_fit\n",
    "options = Options()\n",
    "options.nsteps = 100000"
   ]
  },
  {
   "cell_type": "code",
   "execution_count": 2,
   "metadata": {
    "ExecuteTime": {
     "end_time": "2020-11-05T16:11:09.554000Z",
     "start_time": "2020-11-05T16:11:09.374000Z"
    }
   },
   "outputs": [
    {
     "name": "stderr",
     "output_type": "stream",
     "text": [
      "<ipython-input-2-cecade5f2b79>:8: RuntimeWarning: divide by zero encountered in true_divide\n",
      "  plt.plot(slewrate*tt*(np.exp(-(tt/tramp)**100))+slewrate*tramp*(np.exp(-(tramp/tt)**100)-1)+det)\n",
      "<ipython-input-2-cecade5f2b79>:8: RuntimeWarning: overflow encountered in power\n",
      "  plt.plot(slewrate*tt*(np.exp(-(tt/tramp)**100))+slewrate*tramp*(np.exp(-(tramp/tt)**100)-1)+det)\n"
     ]
    },
    {
     "data": {
      "text/plain": [
       "[<matplotlib.lines.Line2D at 0x1c0278072e0>]"
      ]
     },
     "execution_count": 2,
     "metadata": {},
     "output_type": "execute_result"
    },
    {
     "data": {
      "image/png": "[encoded data removed]",
      "text/plain": [
       "<Figure size 432x288 with 1 Axes>"
      ]
     },
     "metadata": {
      "needs_background": "light"
     },
     "output_type": "display_data"
    }
   ],
   "source": [
    "tt = np.linspace(0,100,100000)\n",
    "\n",
    "span = 25.0\n",
    "det = 0.1\n",
    "tramp = 10\n",
    "tramp = 10\n",
    "slewrate = span/tramp\n",
    "plt.plot(slewrate*tt*(np.exp(-(tt/tramp)**100))+slewrate*tramp*(np.exp(-(tramp/tt)**100)-1)+det)"
   ]
  },
  {
   "cell_type": "code",
   "execution_count": 3,
   "metadata": {
    "ExecuteTime": {
     "end_time": "2020-11-05T16:09:40.240000Z",
     "start_time": "2020-11-05T16:09:33.695000Z"
    }
   },
   "outputs": [
    {
     "ename": "TypeError",
     "evalue": "unsupported operand type(s) for *: 'module' and 'float'",
     "output_type": "error",
     "traceback": [
      "\u001b[1;31m---------------------------------------------------------------------------\u001b[0m",
      "\u001b[1;31mTypeError\u001b[0m                                 Traceback (most recent call last)",
      "\u001b[1;32m<ipython-input-3-f0fb3d14779b>\u001b[0m in \u001b[0;36m<module>\u001b[1;34m\u001b[0m\n\u001b[0;32m     16\u001b[0m \u001b[0mspan\u001b[0m \u001b[1;33m=\u001b[0m \u001b[1;36m10\u001b[0m\u001b[1;33m*\u001b[0m\u001b[0mnp\u001b[0m\u001b[1;33m.\u001b[0m\u001b[0mpi\u001b[0m\u001b[1;33m*\u001b[0m\u001b[0momega_r\u001b[0m \u001b[1;31m# scanning range, should be >>omega_r for nice Fidelity\u001b[0m\u001b[1;33m\u001b[0m\u001b[1;33m\u001b[0m\u001b[0m\n\u001b[0;32m     17\u001b[0m \u001b[1;33m\u001b[0m\u001b[0m\n\u001b[1;32m---> 18\u001b[1;33m \u001b[0mtramp\u001b[0m \u001b[1;33m=\u001b[0m \u001b[0mtime\u001b[0m\u001b[1;33m*\u001b[0m\u001b[1;36m0.0\u001b[0m\u001b[1;33m\u001b[0m\u001b[1;33m\u001b[0m\u001b[0m\n\u001b[0m\u001b[0;32m     19\u001b[0m \u001b[0mslew_rate\u001b[0m \u001b[1;33m=\u001b[0m \u001b[0mspan\u001b[0m\u001b[1;33m/\u001b[0m\u001b[0mtramp\u001b[0m \u001b[1;31m# rate of frequency sweeps, should be <<omega_r for nice Fidelity\u001b[0m\u001b[1;33m\u001b[0m\u001b[1;33m\u001b[0m\u001b[0m\n\u001b[0;32m     20\u001b[0m \u001b[1;33m\u001b[0m\u001b[0m\n",
      "\u001b[1;31mTypeError\u001b[0m: unsupported operand type(s) for *: 'module' and 'float'"
     ]
    }
   ],
   "source": [
    "#Hamiltonian\n",
    "X = sigmax()\n",
    "Y = sigmay()\n",
    "Z = sigmaz()\n",
    "\n",
    "\n",
    "s1= basis(2,0) #initial state\n",
    "c_ops = [] #colapse operators\n",
    "e_ops=[]  #[X,Y,Z] #expectation values to measure\n",
    "allStates=[s1*s1.dag()] # array of all intermidiate states \n",
    "allTimes=[] # array of times\n",
    "\n",
    "# ======================\n",
    "omega_r = 3.0 #Rabi Frequency\n",
    " #Parameter responsible for asymtry of the scanning range (span)\n",
    "span = 10*np.pi*omega_r # scanning range, should be >>omega_r for nice Fidelity\n",
    "\n",
    "tramp = time*0.0\n",
    "slew_rate = span/tramp # rate of frequency sweeps, should be <<omega_r for nice Fidelity\n",
    "\n",
    "\n",
    "tlist = np.linspace(0,time,200) # list of times for which we want to evaluate\n",
    "  \n",
    "detuning_dependence = 'slewrate*t*(exp(-(t/tramp)**10000))+slewrate*tramp*(exp(-(tramp/t)**10000)-1)+det' # time dependence of the detuning part of Hamiltonian\n",
    "\n",
    "H0 = Z \n",
    "det = 3.0\n",
    "H_MW_exc = [[H0,detuning_dependence], [X,'omega_r'] ]\n",
    "args = {'slewrate':slew_rate, 'span':span, 'omega_r':omega_r,'tramp':tramp, 'det':det}\n",
    "\n",
    "options.rhs_reuse = False\n",
    "output = mesolve(H_MW_exc, fock_dm(2,0), tlist, c_ops, e_ops, args =args,  options=options)    \n",
    "\n",
    "#plot of the Bloch Sphere\n",
    "sphere=Bloch()\n",
    "sphere.add_points([\n",
    "    expect(output.states,X),\n",
    "    expect(output.states,Y),\n",
    "    expect(output.states,Z)\n",
    "], meth='l')\n",
    "sphere.vector_color = ['r']\n",
    "sphere.add_vectors([expect(output.states[0],X),\n",
    "                    expect(output.states[0],Y),\n",
    "                    expect(output.states[0],Z)])\n",
    "sphere.show()\n",
    "\n",
    "# plot of the spin projection to z-axis\n",
    "espin = expect(output.states,Z)"
   ]
  },
  {
   "cell_type": "code",
   "execution_count": null,
   "metadata": {
    "ExecuteTime": {
     "end_time": "2020-11-05T16:15:24.621000Z",
     "start_time": "2020-11-05T16:15:24.282000Z"
    }
   },
   "outputs": [],
   "source": [
    "plt.plot(tlist, espin, 'g');\n",
    "plt.figure()\n",
    "plt.plot(tlist, slewrate*tlist*(np.exp(-(tlist/tramp)**10000))+slewrate*tramp*(np.exp(-(tramp/tlist)**10000)-1)+det)"
   ]
  },
  {
   "cell_type": "code",
   "execution_count": null,
   "metadata": {},
   "outputs": [],
   "source": []
  },
  {
   "cell_type": "code",
   "execution_count": null,
   "metadata": {},
   "outputs": [],
   "source": []
  }
 ],
 "metadata": {
  "kernelspec": {
   "display_name": "Python 3",
   "language": "python",
   "name": "python3"
  },
  "language_info": {
   "codemirror_mode": {
    "name": "ipython",
    "version": 3
   },
   "file_extension": ".py",
   "mimetype": "text/x-python",
   "name": "python",
   "nbconvert_exporter": "python",
   "pygments_lexer": "ipython3",
   "version": "3.8.5"
  },
  "toc": {
   "base_numbering": 1,
   "nav_menu": {},
   "number_sections": true,
   "sideBar": true,
   "skip_h1_title": false,
   "title_cell": "Table of Contents",
   "title_sidebar": "Contents",
   "toc_cell": false,
   "toc_position": {},
   "toc_section_display": true,
   "toc_window_display": false
  },
  "varInspector": {
   "cols": {
    "lenName": 16,
    "lenType": 16,
    "lenVar": 40
   },
   "kernels_config": {
    "python": {
     "delete_cmd_postfix": "",
     "delete_cmd_prefix": "del ",
     "library": "var_list.py",
     "varRefreshCmd": "print(var_dic_list())"
    },
    "r": {
     "delete_cmd_postfix": ") ",
     "delete_cmd_prefix": "rm(",
     "library": "var_list.r",
     "varRefreshCmd": "cat(var_dic_list()) "
    }
   },
   "types_to_exclude": [
    "module",
    "function",
    "builtin_function_or_method",
    "instance",
    "_Feature"
   ],
   "window_display": false
  }
 },
 "nbformat": 4,
 "nbformat_minor": 2
}
