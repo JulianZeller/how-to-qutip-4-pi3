{
 "cells": [
  {
   "cell_type": "code",
   "execution_count": 35,
   "metadata": {
    "ExecuteTime": {
     "end_time": "2021-05-07T23:34:04.103000Z",
     "start_time": "2021-05-07T23:34:04.060000Z"
    }
   },
   "outputs": [],
   "source": [
    "import numpy as np\n",
    "import pandas as pa \n",
    "from matplotlib import pyplot as plt \n",
    "%matplotlib inline\n",
    "from qutip import *\n",
    "import tqdm\n",
    "from qutip.qip.operations import gates"
   ]
  },
  {
   "cell_type": "markdown",
   "metadata": {},
   "source": [
    "# Decoherence and Hahn echo "
   ]
  },
  {
   "cell_type": "markdown",
   "metadata": {},
   "source": [
    "In NV sensing we often are interested in the nuclear spin enviroment, here a $^{13}$C bath. If we study the \n",
    "decoherence of the NV electron spin, we find that the problem can be summarized as: \\\n",
    "    \\\n",
    "    $ H = \\omega_s S_z + \\sum_i^N \\left(\\gamma_n B  I_{z,i}  + A_{zz,i} S_z I_{z,i}  + A_{zx,i} S_zI_{x,i} \\right) ,$\\\n",
    "\\\n",
    "Because the spins are not interaciting, we can paraell process the evolutions and multiply the measurement outcome probabilities after evolution, this is called cluster expansion.\n",
    "\n",
    "The sequence goes as the following, with $U(\\pi),U(\\pi/2)$ for $\\pi$ and $\\pi/2$ -pulse and $U_i$ for the evolution of $H_i$ for time $\\tau$:\\\n",
    "\\\n",
    "$ P(\\tau) = \\prod_i^N  \\rm{expect}\\left(\\rm{ptrace}\\left(U(\\pi/2)\\, U_i(\\tau)\\, U(\\pi) \\, U_i(\\tau)\\, U(\\pi/2)\\cdot  \\rho_{\\rm{init}}  \\cdot U^\\dagger(\\pi/2) \\,U_i^\\dagger(\\tau)\\, U^\\dagger(\\pi)\\,  U_i^\\dagger(\\tau)\\, U^\\dagger(\\pi/2)\\right)\\right)\n",
    "$\n"
   ]
  },
  {
   "cell_type": "markdown",
   "metadata": {},
   "source": [
    "###  preliminaries\n"
   ]
  },
  {
   "cell_type": "code",
   "execution_count": 36,
   "metadata": {
    "ExecuteTime": {
     "end_time": "2021-05-10T15:48:59.775000Z",
     "start_time": "2021-05-10T15:48:59.715000Z"
    }
   },
   "outputs": [],
   "source": [
    "#NV in (0, -1) subspace\n",
    "sz_e = (sigmaz()-qeye(2))*0.5\n",
    "sz = tensor(sz_e, qeye(2))\n",
    "\n",
    "#13C is spin 1/2\n",
    "iz = tensor(qeye(2), sigmaz()*0.5)\n",
    "ix = tensor(qeye(2), sigmax()*0.5)\n",
    "#del(s_z)\n",
    "\n",
    "#describe the dynamical decoupling with rotations\n",
    "#pi/2 pulses electron\n",
    "pi_2_g_e_x = gates.rotation(op=sigmax(), phi=np.pi/2.0, N=2, target=0)\n",
    "pi_2_g_e_y = gates.rotation(op=sigmay(), phi=np.pi/2.0, N=2, target=0)\n",
    "\n",
    "#pi pulses electron\n",
    "pi_g_e_x = gates.rotation(op=sigmax(), phi=np.pi, N=2,target=0)\n",
    "\n",
    "#\n",
    "pi_g_e_x_alpha = gates.rotation(op=sigmax(), phi=np.pi*0.1, N=2,target=0)\n",
    "pi_g_e_mx_alpha = gates.rotation(op=sigmax(), phi=-np.pi*0.1, N=2,target=0)\n",
    "pi_g_e_y_alpha = gates.rotation(op=sigmay(), phi=np.pi*0.1, N=2,target=0)\n",
    "pi_g_e_my_alpha = gates.rotation(op=sigmay(), phi=-np.pi*0.1, N=2,target=0)"
   ]
  },
  {
   "cell_type": "code",
   "execution_count": 53,
   "metadata": {
    "ExecuteTime": {
     "end_time": "2021-05-10T15:49:22.448000Z",
     "start_time": "2021-05-10T15:49:22Z"
    },
    "code_folding": [
     1,
     7,
     17,
     33,
     44,
     55,
     80
    ]
   },
   "outputs": [
    {
     "data": {
      "text/plain": [
       "(array([[1., 0., 2., 1., 1., 1., 1., 0., 0., 0.],\n",
       "        [0., 0., 0., 0., 0., 3., 2., 1., 0., 1.]]),\n",
       " array([-0.20073436, -0.15067944, -0.10062452, -0.0505696 , -0.00051468,\n",
       "         0.04954024,  0.09959516,  0.14965008,  0.199705  ,  0.24975992,\n",
       "         0.29981485]),\n",
       " <a list of 2 BarContainer objects>)"
      ]
     },
     "execution_count": 53,
     "metadata": {},
     "output_type": "execute_result"
    },
    {
     "data": {
      "image/png": "[encoded data removed]",
      "text/plain": [
       "<Figure size 432x288 with 1 Axes>"
      ]
     },
     "metadata": {
      "needs_background": "light"
     },
     "output_type": "display_data"
    }
   ],
   "source": [
    "class NV:\n",
    "    def __init__(self, c13_zz,c13_zx,B):\n",
    "        self.C13_zz = c13_zz\n",
    "        self.C13_zx = c13_zx\n",
    "        self.B = B\n",
    "        self.init_h()\n",
    "        \n",
    "    def init_h(self):\n",
    "        self.H = []\n",
    "        gamma_e = 2.8 #MHz/G\n",
    "        gamma_n = 10.7*1e-4 # MHz/G\n",
    "        for i,zz in enumerate(self.C13_zz):\n",
    "            self.H.append(\n",
    "                iz*gamma_n*B*2*np.pi + 2*np.pi*sz*iz*zz +\n",
    "                2*np.pi*sz*ix*self.C13_zx[i]\n",
    "            )        \n",
    "                \n",
    "    def evolve_i(self, rho, seq, i):        \n",
    "        rho1 = rho\n",
    "        for s in seq:\n",
    "            if isinstance(s, Qobj):\n",
    "                rho1 = s*rho1*s.dag()\n",
    "            elif isinstance(s, float):\n",
    "                U = (self.H[i]*1j*s).expm()\n",
    "                rho1 = U*rho1*U.dag()\n",
    "            elif isinstance(s, dict):\n",
    "                out = mesolve(rho0=rho1, H=self.H, c_ops=[tensor(sigmaz(),qeye(2))], tlist=np.linspace(0,s['T_c'], 10), \n",
    "                          options = Options(nsteps=1e5))\n",
    "                return out.states[-1]                \n",
    "        return rho1\n",
    "    \n",
    "    def experiment(self, seq, **kwargs):\n",
    "        Pi = 1\n",
    "        rho = tensor(fock_dm(2,0), qeye(2)*0.5)\n",
    "        for i,zz in enumerate(self.C13_zz):\n",
    "            rho1 = self.evolve_i(rho, seq(**kwargs),i)\n",
    "            p0 = expect(sigmaz(), rho1.ptrace(0))\n",
    "            Pi *= p0\n",
    "        return Pi\n",
    "    \n",
    "    def hahn_echo(self,tau):\n",
    "        seq = [\n",
    "            pi_2_g_e_y, \n",
    "            tau, \n",
    "            pi_g_e_x,\n",
    "            tau,\n",
    "            pi_2_g_e_y.dag()\n",
    "            ]\n",
    "        return seq\n",
    "    \n",
    "    \n",
    "    \n",
    "#create random bath:\n",
    "C13_zz_b = np.random.normal(loc = 0, scale =0.15, size=5)#[0.13, 0.13,0.1, 0.04,0.002,0.05, 0.1]\n",
    "C13_zx_b = np.random.normal(loc=0,scale=0.15, size=5)\n",
    "\n",
    "#add two known spins to it\n",
    "C13_zz = np.array([-200.73436071,52.2228743806])*1e-3\n",
    "C13_zx = np.array([73.365909271,143.61522982])*1e-3\n",
    "C13_zz = np.append(C13_zz, C13_zz_b)\n",
    "C13_zx = np.append(C13_zx, C13_zx_b)\n",
    "\n",
    "mynv = NV(B=50, c13_zx=C13_zz, c13_zz=C13_zx)\n",
    "\n",
    "plt.title('13C Coupling Histogram')\n",
    "plt.hist([C13_zz, C13_zx])\n",
    "\n"
   ]
  },
  {
   "cell_type": "markdown",
   "metadata": {},
   "source": [
    "### DD run"
   ]
  },
  {
   "cell_type": "code",
   "execution_count": 54,
   "metadata": {
    "ExecuteTime": {
     "end_time": "2021-05-10T15:50:44.643000Z",
     "start_time": "2021-05-10T15:49:38.218000Z"
    }
   },
   "outputs": [
    {
     "name": "stderr",
     "output_type": "stream",
     "text": [
      "<ipython-input-54-21f8bc21ab1e>:3: TqdmDeprecationWarning: This function will be removed in tqdm==5.0.0\n",
      "Please use `tqdm.notebook.tqdm` instead of `tqdm.tqdm_notebook`\n",
      "  for tau in tqdm.tqdm_notebook(taus):\n"
     ]
    },
    {
     "data": {
      "application/vnd.jupyter.widget-view+json": {
       "model_id": "70d07504e50141408d1e58e0613aa4f2",
       "version_major": 2,
       "version_minor": 0
      },
      "text/plain": [
       "HBox(children=(HTML(value=''), FloatProgress(value=0.0, max=200.0), HTML(value='')))"
      ]
     },
     "metadata": {},
     "output_type": "display_data"
    },
    {
     "name": "stdout",
     "output_type": "stream",
     "text": [
      "\n"
     ]
    }
   ],
   "source": [
    "Phe = []\n",
    "taus = np.linspace(0,50,200)\n",
    "for tau in tqdm.tqdm_notebook(taus):\n",
    "    Phe.append(mynv.experiment(seq=mynv.hahn_echo,tau=tau))"
   ]
  },
  {
   "cell_type": "code",
   "execution_count": 55,
   "metadata": {
    "ExecuteTime": {
     "end_time": "2021-05-10T15:51:44.579000Z",
     "start_time": "2021-05-10T15:51:43.951000Z"
    }
   },
   "outputs": [
    {
     "name": "stderr",
     "output_type": "stream",
     "text": [
      "C:\\Users\\yy3\\anaconda3\\lib\\site-packages\\numpy\\core\\_asarray.py:102: ComplexWarning: Casting complex values to real discards the imaginary part\n",
      "  return array(a, dtype, copy=False, order=order)\n"
     ]
    },
    {
     "data": {
      "image/png": "[encoded data removed]",
      "text/plain": [
       "<Figure size 900x600 with 1 Axes>"
      ]
     },
     "metadata": {
      "needs_background": "light"
     },
     "output_type": "display_data"
    }
   ],
   "source": [
    "plt.figure(dpi=150)\n",
    "\n",
    "plt.plot(taus, np.array(Phe))\n",
    "plt.xlabel('Total_tau, us')\n",
    "plt.ylabel('$\\\\langle S_z \\\\rangle$')\n",
    "plt.title('Hahn Echo revivals')\n",
    "plt.savefig('hahn-echo.png')"
   ]
  },
  {
   "cell_type": "code",
   "execution_count": null,
   "metadata": {},
   "outputs": [],
   "source": []
  }
 ],
 "metadata": {
  "celltoolbar": "Raw Cell Format",
  "kernelspec": {
   "display_name": "Python 3",
   "language": "python",
   "name": "python3"
  },
  "language_info": {
   "codemirror_mode": {
    "name": "ipython",
    "version": 3
   },
   "file_extension": ".py",
   "mimetype": "text/x-python",
   "name": "python",
   "nbconvert_exporter": "python",
   "pygments_lexer": "ipython3",
   "version": "3.8.5"
  },
  "toc": {
   "base_numbering": 1,
   "nav_menu": {},
   "number_sections": true,
   "sideBar": true,
   "skip_h1_title": false,
   "title_cell": "Table of Contents",
   "title_sidebar": "Contents",
   "toc_cell": false,
   "toc_position": {},
   "toc_section_display": true,
   "toc_window_display": true
  },
  "varInspector": {
   "cols": {
    "lenName": 16,
    "lenType": 16,
    "lenVar": 40
   },
   "kernels_config": {
    "python": {
     "delete_cmd_postfix": "",
     "delete_cmd_prefix": "del ",
     "library": "var_list.py",
     "varRefreshCmd": "print(var_dic_list())"
    },
    "r": {
     "delete_cmd_postfix": ") ",
     "delete_cmd_prefix": "rm(",
     "library": "var_list.r",
     "varRefreshCmd": "cat(var_dic_list()) "
    }
   },
   "types_to_exclude": [
    "module",
    "function",
    "builtin_function_or_method",
    "instance",
    "_Feature"
   ],
   "window_display": false
  }
 },
 "nbformat": 4,
 "nbformat_minor": 2
}
